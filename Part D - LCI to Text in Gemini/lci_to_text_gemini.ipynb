{
  "nbformat": 4,
  "nbformat_minor": 0,
  "metadata": {
    "colab": {
      "provenance": [],
      "authorship_tag": "ABX9TyMxmymCR6eTLU7K0tCOsMMj",
      "include_colab_link": true
    },
    "kernelspec": {
      "name": "python3",
      "display_name": "Python 3"
    },
    "language_info": {
      "name": "python"
    }
  },
  "cells": [
    {
      "cell_type": "markdown",
      "metadata": {
        "id": "view-in-github",
        "colab_type": "text"
      },
      "source": [
        "<a href=\"https://colab.research.google.com/github/Bryan-Az/Foundation-Model-Showcase/blob/main/Part%20D%20-%20LCI%20to%20Text%20in%20Gemini/lci_to_text_gemini.ipynb\" target=\"_parent\"><img src=\"https://colab.research.google.com/assets/colab-badge.svg\" alt=\"Open In Colab\"/></a>"
      ]
    },
    {
      "cell_type": "markdown",
      "source": [
        "# Large Multimodal Context Input (LCI) in Text Output in Gemini\n",
        "\n",
        "In this notebook, I'll be using python code to call the Gemini API. Given it's latest large context input functionality, I'll be prompting the model with 10 unique large text data input prompts to demonstrate this capability"
      ],
      "metadata": {
        "id": "KT2bKwCFfebH"
      }
    },
    {
      "cell_type": "code",
      "execution_count": 1,
      "metadata": {
        "id": "yut2-YdcZWbf"
      },
      "outputs": [],
      "source": [
        "import os\n",
        "import google.generativeai as genai\n",
        "from typing import Dict, Any\n",
        "from google.colab import userdata"
      ]
    },
    {
      "cell_type": "code",
      "source": [
        "import html as html\n",
        "from IPython.display import HTML, display"
      ],
      "metadata": {
        "id": "9Ma_QxmibYZq"
      },
      "execution_count": 2,
      "outputs": []
    },
    {
      "cell_type": "markdown",
      "source": [
        " ## Calling Gemini via its API in Python\n",
        "\n",
        " In order to utilize the Gemini 1.5 model with the LCI capabilities, we need to create a function that submits requests to 'gemini-1.5-flash'."
      ],
      "metadata": {
        "id": "eALkodukfi-6"
      }
    },
    {
      "cell_type": "code",
      "source": [
        "def call_gemini_api(prompt: str, model: str = \"gemini-1.5-flash\") -> Dict[str, Any]:\n",
        "    \"\"\"\n",
        "    Call the Gemini API with a given prompt.\n",
        "\n",
        "    Args:\n",
        "    prompt (str): The input prompt for the Gemini model.\n",
        "    model (str): The Gemini model to use. Defaults to \"gemini-pro\".\n",
        "\n",
        "    Returns:\n",
        "    Dict[str, Any]: A dictionary containing the API response.\n",
        "\n",
        "    Raises:\n",
        "    ValueError: If the API key is not set or the API call fails.\n",
        "    \"\"\"\n",
        "    # Check if the API key is set\n",
        "    api_key = userdata.get(\"google_api_key\")\n",
        "    if not api_key:\n",
        "        raise ValueError(\" environment variable is not set\")\n",
        "\n",
        "    try:\n",
        "        # Configure the Gemini API\n",
        "        genai.configure(api_key=api_key)\n",
        "\n",
        "        # Set up the model\n",
        "        model = genai.GenerativeModel(model)\n",
        "\n",
        "        # Generate content\n",
        "        response = model.generate_content(prompt)\n",
        "\n",
        "        # Return the response as a dictionary\n",
        "        return {\n",
        "            \"generated_text\": response.text,\n",
        "            \"safety_ratings\": [\n",
        "                {\n",
        "                    \"category\": rating.category,\n",
        "                    \"probability\": rating.probability\n",
        "                } for rating in response.prompt_feedback.safety_ratings\n",
        "            ],\n",
        "            \"model\": model.model_name,\n",
        "        }\n",
        "\n",
        "    except Exception as e:\n",
        "        raise ValueError(f\"Error calling Gemini API: {str(e)}\")"
      ],
      "metadata": {
        "id": "0m00rg4kZwe-"
      },
      "execution_count": 3,
      "outputs": []
    },
    {
      "cell_type": "code",
      "source": [
        "# a function that calls the gemini api & prints the text response in html formatting\n",
        "def print_gemini_response(prompt: str) -> None:\n",
        "  response = call_gemini_api(prompt)\n",
        "  unescaped_html = html.unescape(response[\"generated_text\"])\n",
        "  formatted_html = HTML(f\"<pre>{unescaped_html}</pre>\")\n",
        "  display(formatted_html)\n",
        "  return unescaped_html"
      ],
      "metadata": {
        "id": "5Lxp_yLRaFxk"
      },
      "execution_count": 4,
      "outputs": []
    },
    {
      "cell_type": "code",
      "source": [
        "print_gemini_response(\"Quien es tizoc?\")"
      ],
      "metadata": {
        "colab": {
          "base_uri": "https://localhost:8080/",
          "height": 454
        },
        "id": "v8SvdrfJbyMC",
        "outputId": "30d56c34-e3cc-4986-cca3-08817b49292c"
      },
      "execution_count": 5,
      "outputs": [
        {
          "output_type": "display_data",
          "data": {
            "text/plain": [
              "<IPython.core.display.HTML object>"
            ],
            "text/html": [
              "<pre>Tizoc fue un emperador azteca que gobernó entre 1481 y 1486.  \n",
              "\n",
              "**Algunos puntos clave sobre Tizoc:**\n",
              "\n",
              "* **Sucedió a Axayácatl como emperador.** \n",
              "* **Su reinado fue corto y turbulento.** \n",
              "* **Se enfrentó a conflictos internos y externos.** \n",
              "* **Fue asesinado por su propio hermano Ahuitzotl, quien luego tomó el trono.** \n",
              "\n",
              "**Datos interesantes:**\n",
              "\n",
              "* El nombre \"Tizoc\" significa \"el que tiene rabia\". \n",
              "* Es conocido por sus esfuerzos para expandir el imperio azteca. \n",
              "* Se le atribuye la construcción de un nuevo palacio en Tenochtitlán. \n",
              "\n",
              "**Información adicional:**\n",
              "\n",
              "La información sobre Tizoc es limitada, ya que no se ha encontrado mucha evidencia histórica. Sin embargo, su reinado es un período importante en la historia azteca. \n",
              "\n",
              "**Si necesitas más información sobre Tizoc, no dudes en pedirla.** \n",
              "</pre>"
            ]
          },
          "metadata": {}
        },
        {
          "output_type": "execute_result",
          "data": {
            "text/plain": [
              "'Tizoc fue un emperador azteca que gobernó entre 1481 y 1486.  \\n\\n**Algunos puntos clave sobre Tizoc:**\\n\\n* **Sucedió a Axayácatl como emperador.** \\n* **Su reinado fue corto y turbulento.** \\n* **Se enfrentó a conflictos internos y externos.** \\n* **Fue asesinado por su propio hermano Ahuitzotl, quien luego tomó el trono.** \\n\\n**Datos interesantes:**\\n\\n* El nombre \"Tizoc\" significa \"el que tiene rabia\". \\n* Es conocido por sus esfuerzos para expandir el imperio azteca. \\n* Se le atribuye la construcción de un nuevo palacio en Tenochtitlán. \\n\\n**Información adicional:**\\n\\nLa información sobre Tizoc es limitada, ya que no se ha encontrado mucha evidencia histórica. Sin embargo, su reinado es un período importante en la historia azteca. \\n\\n**Si necesitas más información sobre Tizoc, no dudes en pedirla.** \\n'"
            ],
            "application/vnd.google.colaboratory.intrinsic+json": {
              "type": "string"
            }
          },
          "metadata": {},
          "execution_count": 5
        }
      ]
    },
    {
      "cell_type": "markdown",
      "source": [
        "## Gemini Large Context Input with Text\n",
        "The current function calls the API with a prompt that accepts regular text input. Let's refactor the previous function to be able to submit PDF text files (usually large in memory) and ask Gemini if it is able to discern some insights using this new context."
      ],
      "metadata": {
        "id": "b90CPVO9gm9e"
      }
    },
    {
      "cell_type": "code",
      "source": [
        "import io\n",
        "!pip install PyPDF2\n",
        "import PyPDF2"
      ],
      "metadata": {
        "colab": {
          "base_uri": "https://localhost:8080/"
        },
        "id": "8Y9QZSqGj4Vt",
        "outputId": "1cc45805-617f-4c71-b205-de5a679fd1f7"
      },
      "execution_count": 6,
      "outputs": [
        {
          "output_type": "stream",
          "name": "stdout",
          "text": [
            "Requirement already satisfied: PyPDF2 in /usr/local/lib/python3.10/dist-packages (3.0.1)\n"
          ]
        }
      ]
    },
    {
      "cell_type": "code",
      "source": [
        "# To update the previous function we need a utility function to process pdfs into text\n",
        "def process_pdf(pdf_file: io.BytesIO) -> str:\n",
        "    \"\"\"\n",
        "    Process a PDF file and extract its text content.\n",
        "\n",
        "    Args:\n",
        "    pdf_file (io.BytesIO): The PDF file as a BytesIO object.\n",
        "\n",
        "    Returns:\n",
        "    str: The extracted text content from the PDF.\n",
        "    \"\"\"\n",
        "    pdf_reader = PyPDF2.PdfReader(pdf_file)\n",
        "    text_content = []\n",
        "    for page in pdf_reader.pages:\n",
        "        text_content.append(page.extract_text())\n",
        "    return \"\\n\".join(text_content)"
      ],
      "metadata": {
        "id": "gvC_i9vxgbLo"
      },
      "execution_count": 7,
      "outputs": []
    },
    {
      "cell_type": "code",
      "source": [
        "def lci_gemini_api(prompt: str, pdf_filepath: str, model: str = \"gemini-1.5-flash\") -> Dict[str, Any]:\n",
        "    \"\"\"\n",
        "    Call the Gemini API using the 1.5-flash model for LCI with a given prompt that queries PDF file content.\n",
        "    Both the prompt and the pdf_file must be provided.\n",
        "\n",
        "    Args:\n",
        "    prompt as str: The input prompt for the Gemini model.\n",
        "    pdf_filepath as str: The PDF file as a BytesIO object.\n",
        "    model (str): The Gemini model to use. Defaults to \"gemini-1.5-flash\".\n",
        "\n",
        "    Returns:\n",
        "    Dict[str, Any]: A dictionary containing the API response.\n",
        "\n",
        "    Raises:\n",
        "    ValueError: If the API key is not set, neither prompt nor pdf_filepath is provided, or the API call fails.\n",
        "    \"\"\"\n",
        "    # Check if the API key is set\n",
        "    api_key = userdata.get(\"google_api_key\")\n",
        "    if not api_key:\n",
        "        raise ValueError(\"google_api_key environment variable is not set\")\n",
        "\n",
        "    if prompt is None or pdf_filepath is None:\n",
        "        raise ValueError(\"Both prompt and pdf_file must be provided\")\n",
        "\n",
        "    try:\n",
        "        # Configure the Gemini API\n",
        "        genai.configure(api_key=api_key)\n",
        "\n",
        "        # Set up the model\n",
        "        model = genai.GenerativeModel(model)\n",
        "\n",
        "        # Initialize content\n",
        "        content = prompt\n",
        "        # Process input - fix\n",
        "        if pdf_filepath.endswith(\".pdf\"):\n",
        "            with open(pdf_filepath, \"rb\") as pdf_file:\n",
        "                content += '#### PDF Context ####' + process_pdf(pdf_file)\n",
        "        else:\n",
        "            print('Invalid pdf filepath.')\n",
        "\n",
        "        # Generate content\n",
        "        response = model.generate_content(content)\n",
        "\n",
        "        # Return the response as a dictionary\n",
        "        return {\n",
        "            \"generated_text\": response.text,\n",
        "            \"safety_ratings\": [\n",
        "                {\n",
        "                    \"category\": rating.category,\n",
        "                    \"probability\": rating.probability\n",
        "                } for rating in response.prompt_feedback.safety_ratings\n",
        "            ],\n",
        "            \"model\": model.model_name,\n",
        "        }\n",
        "\n",
        "    except Exception as e:\n",
        "        raise ValueError(f\"Error calling Gemini API: {str(e)}\")"
      ],
      "metadata": {
        "id": "gIckifWUj22u"
      },
      "execution_count": 8,
      "outputs": []
    },
    {
      "cell_type": "markdown",
      "source": [
        "Now that the function is able to accept PDF input and extract its text together with a text query, we can call the Large Context Input Gemini 1.5 function with various pdf's and queries."
      ],
      "metadata": {
        "id": "JuUEoE-JnG8i"
      }
    },
    {
      "cell_type": "code",
      "source": [
        "# Redefining the 'print_gemini_response' function with our updated 'lci_gemini_api' function\n",
        "# a function that calls the gemini api & prints the text response in html formatting\n",
        "def print_gemini_response(prompt: str, pdf_filepath:str) -> None:\n",
        "  response = lci_gemini_api(prompt, pdf_filepath)\n",
        "  unescaped_html = html.unescape(response[\"generated_text\"])\n",
        "  formatted_html = HTML(f\"<pre>{unescaped_html}</pre>\")\n",
        "  display(formatted_html)\n",
        "  return None"
      ],
      "metadata": {
        "id": "9NxSfhdP7GF1"
      },
      "execution_count": 9,
      "outputs": []
    },
    {
      "cell_type": "markdown",
      "source": [
        "# 10 Example Use-cases\n",
        "\n",
        "Use-cases 1-5 are exemplified using a creative commons pdf of a storybook titled 'Croak' written by Kavitha Punniyamurthi. Use-cases 5-10 are exemplified using a open-access pdf of a research paper titled 'Studying human behavior with virtual reality: The Unity Experiment Framework' by Brookes et.al."
      ],
      "metadata": {
        "id": "TeubQIW3nQ5t"
      }
    },
    {
      "cell_type": "code",
      "source": [
        "storybook_gdrive_link = 'https://drive.google.com/file/d/1fRefHIz0j5Hvy1bIRxxMhs7fv4tZVxWc/view?usp=sharing'\n",
        "research_gdrive_link = 'https://drive.google.com/file/d/1q-4292kbDR-Y9MmLVpc8cg-F2s6sDWGb/view?usp=sharing'"
      ],
      "metadata": {
        "id": "0bRFA3YTGt0Z"
      },
      "execution_count": 10,
      "outputs": []
    },
    {
      "cell_type": "code",
      "source": [
        "!pip install gdown==4.6.2\n",
        "\n",
        "import gdown\n",
        "\n",
        "def download_pdf_from_gdrive(gdrive_link: str, output_filename: str):\n",
        "  \"\"\"Downloads a PDF file from Google Drive to /content/ in Colab.\n",
        "\n",
        "  Args:\n",
        "    gdrive_link: The shareable link of the PDF file on Google Drive.\n",
        "    output_filename: The name to save the downloaded file as.\n",
        "  \"\"\"\n",
        "\n",
        "  file_id = gdrive_link.split('/')[-2]\n",
        "  url = f'https://drive.google.com/uc?id={file_id}'\n",
        "  output_path = f'/content/{output_filename}'\n",
        "  gdown.download(url, output_path, quiet=False)\n",
        "\n",
        "# downloading the pdf's to colab's /content/\n",
        "download_pdf_from_gdrive(storybook_gdrive_link, 'storybook.pdf')\n",
        "download_pdf_from_gdrive(research_gdrive_link, 'paper.pdf')\n"
      ],
      "metadata": {
        "colab": {
          "base_uri": "https://localhost:8080/"
        },
        "id": "pa9VOZIxG-sO",
        "outputId": "c8220da1-f8c0-41b6-a0e4-aa94bd44824f"
      },
      "execution_count": 11,
      "outputs": [
        {
          "output_type": "stream",
          "name": "stdout",
          "text": [
            "Requirement already satisfied: gdown==4.6.2 in /usr/local/lib/python3.10/dist-packages (4.6.2)\n",
            "Requirement already satisfied: filelock in /usr/local/lib/python3.10/dist-packages (from gdown==4.6.2) (3.15.4)\n",
            "Requirement already satisfied: requests[socks] in /usr/local/lib/python3.10/dist-packages (from gdown==4.6.2) (2.32.3)\n",
            "Requirement already satisfied: six in /usr/local/lib/python3.10/dist-packages (from gdown==4.6.2) (1.16.0)\n",
            "Requirement already satisfied: tqdm in /usr/local/lib/python3.10/dist-packages (from gdown==4.6.2) (4.66.5)\n",
            "Requirement already satisfied: beautifulsoup4 in /usr/local/lib/python3.10/dist-packages (from gdown==4.6.2) (4.12.3)\n",
            "Requirement already satisfied: soupsieve>1.2 in /usr/local/lib/python3.10/dist-packages (from beautifulsoup4->gdown==4.6.2) (2.6)\n",
            "Requirement already satisfied: charset-normalizer<4,>=2 in /usr/local/lib/python3.10/dist-packages (from requests[socks]->gdown==4.6.2) (3.3.2)\n",
            "Requirement already satisfied: idna<4,>=2.5 in /usr/local/lib/python3.10/dist-packages (from requests[socks]->gdown==4.6.2) (3.8)\n",
            "Requirement already satisfied: urllib3<3,>=1.21.1 in /usr/local/lib/python3.10/dist-packages (from requests[socks]->gdown==4.6.2) (2.0.7)\n",
            "Requirement already satisfied: certifi>=2017.4.17 in /usr/local/lib/python3.10/dist-packages (from requests[socks]->gdown==4.6.2) (2024.7.4)\n",
            "Requirement already satisfied: PySocks!=1.5.7,>=1.5.6 in /usr/local/lib/python3.10/dist-packages (from requests[socks]->gdown==4.6.2) (1.7.1)\n"
          ]
        },
        {
          "output_type": "stream",
          "name": "stderr",
          "text": [
            "Downloading...\n",
            "From: https://drive.google.com/uc?id=1fRefHIz0j5Hvy1bIRxxMhs7fv4tZVxWc\n",
            "To: /content/storybook.pdf\n",
            "100%|██████████| 1.74M/1.74M [00:00<00:00, 132MB/s]\n",
            "Downloading...\n",
            "From: https://drive.google.com/uc?id=1q-4292kbDR-Y9MmLVpc8cg-F2s6sDWGb\n",
            "To: /content/paper.pdf\n",
            "100%|██████████| 992k/992k [00:00<00:00, 118MB/s]\n"
          ]
        }
      ]
    },
    {
      "cell_type": "code",
      "source": [],
      "metadata": {
        "id": "2AzigkZBHbBT"
      },
      "execution_count": 11,
      "outputs": []
    },
    {
      "cell_type": "markdown",
      "source": [
        "## Use-case 1: To cite the author and publisher of the storybook."
      ],
      "metadata": {
        "id": "WOJpO7MU6N41"
      }
    },
    {
      "cell_type": "code",
      "source": [
        "print_gemini_response('Who is the author of this storybook and what is the publisher?', '/content/storybook.pdf')"
      ],
      "metadata": {
        "colab": {
          "base_uri": "https://localhost:8080/",
          "height": 34
        },
        "id": "sGm9FhQ46CKS",
        "outputId": "263529f7-ee1d-4262-e740-4f8beb19dcfa"
      },
      "execution_count": 12,
      "outputs": [
        {
          "output_type": "display_data",
          "data": {
            "text/plain": [
              "<IPython.core.display.HTML object>"
            ],
            "text/html": [
              "<pre>The author of the storybook \"Croak\" is **Kavitha Punniyamurthi**. The publisher is **Pratham Books**. \n",
              "</pre>"
            ]
          },
          "metadata": {}
        }
      ]
    },
    {
      "cell_type": "markdown",
      "source": [
        "## Use-case 2: To summarize a kids storybook."
      ],
      "metadata": {
        "id": "mvxFegAtnGhv"
      }
    },
    {
      "cell_type": "code",
      "source": [
        "print_gemini_response('What is this story about? Use 2 sentences maximum to explain the gist!', '/content/storybook.pdf')"
      ],
      "metadata": {
        "colab": {
          "base_uri": "https://localhost:8080/",
          "height": 34
        },
        "id": "ezJUko4pkq9I",
        "outputId": "732d37d8-09c8-406a-abf8-9e55e30083e9"
      },
      "execution_count": 14,
      "outputs": [
        {
          "output_type": "display_data",
          "data": {
            "text/plain": [
              "<IPython.core.display.HTML object>"
            ],
            "text/html": [
              "<pre>A mischievous frog keeps appearing in a teacher's classroom, and the students play pranks by claiming the frog is doing various things, but the teacher doesn't fall for it. \n",
              "</pre>"
            ]
          },
          "metadata": {}
        }
      ]
    },
    {
      "cell_type": "markdown",
      "source": [
        "## Use-case 3: To get a list of characters from the storybook."
      ],
      "metadata": {
        "id": "pQLGYqo852Nb"
      }
    },
    {
      "cell_type": "code",
      "source": [
        "print_gemini_response('What are the main characters in this storybook?', '/content/storybook.pdf')"
      ],
      "metadata": {
        "colab": {
          "base_uri": "https://localhost:8080/",
          "height": 159
        },
        "id": "NPV16-Uom6Y6",
        "outputId": "d59765e3-ce42-40ea-ba14-d1078e1285a2"
      },
      "execution_count": 15,
      "outputs": [
        {
          "output_type": "display_data",
          "data": {
            "text/plain": [
              "<IPython.core.display.HTML object>"
            ],
            "text/html": [
              "<pre>The main characters in this story are:\n",
              "\n",
              "* **Masterji:** The teacher\n",
              "* **The Frog:** A mischievous frog who likes to play pranks on Masterji \n",
              "* **The Children:** The students in Masterji's class who are constantly trying to warn him about the frog.\n",
              "\n",
              "While the children's names are mentioned (Akif, Rani, Munni, Farah, Bishal), they are not developed as individual characters. They primarily act as a group, telling Masterji about the frog's antics. \n",
              "</pre>"
            ]
          },
          "metadata": {}
        }
      ]
    },
    {
      "cell_type": "markdown",
      "source": [
        "## Use-case 4: Although there is no stated 'moral' takeaway, what do you think this storybook may teach a child?"
      ],
      "metadata": {
        "id": "I7HPW0cn8XOI"
      }
    },
    {
      "cell_type": "code",
      "source": [
        "print_gemini_response('What do you think this storybook may teach a child?', '/content/storybook.pdf')"
      ],
      "metadata": {
        "colab": {
          "base_uri": "https://localhost:8080/",
          "height": 193
        },
        "id": "aIjJqI1F6wVt",
        "outputId": "f2a6f83d-8588-4998-e593-b7705e7aa3ed"
      },
      "execution_count": 16,
      "outputs": [
        {
          "output_type": "display_data",
          "data": {
            "text/plain": [
              "<IPython.core.display.HTML object>"
            ],
            "text/html": [
              "<pre>This storybook, \"Croak\", teaches children several valuable lessons:\n",
              "\n",
              "* **Imagination and Creativity:** The story encourages children to use their imagination and come up with creative ways to play pranks, even if they are silly and harmless.\n",
              "* **Humour and Lightheartedness:** The story emphasizes the importance of finding humour in everyday situations and not taking things too seriously. Masterji's reaction to the \"frog\" pranks is lighthearted and humorous, showing that laughter can be a good way to deal with challenges.\n",
              "* **Friendship and Camaraderie:** The story highlights the bond between the children and their teacher. The children's pranks are a sign of their affection for Masterji, and his willingness to play along shows that he enjoys their company.\n",
              "* **Acceptance and Open-mindedness:** Masterji's acceptance of the \"frog\" and his willingness to play along with the children's pranks teach children the importance of being open-minded and accepting of others, even if they are different.\n",
              "* **Resilience and Adaptability:** Masterji's ability to laugh off the pranks and continue with his lessons teaches children the importance of being resilient and adaptable in the face of challenges. \n",
              "\n",
              "Overall, \"Croak\" is a fun and engaging story that teaches children valuable lessons about imagination, humour, friendship, acceptance, and resilience. \n",
              "</pre>"
            ]
          },
          "metadata": {}
        }
      ]
    },
    {
      "cell_type": "markdown",
      "source": [
        "## Use-case 5: This storybook had many images that were not present in the text extracted from the pdf. Let's ask Gemini the visuals it may recommend to include along with the book!"
      ],
      "metadata": {
        "id": "oEICUrGx89Um"
      }
    },
    {
      "cell_type": "code",
      "source": [
        "print_gemini_response('What kind of visuals would you include alongside this storybook?', '/content/storybook.pdf')"
      ],
      "metadata": {
        "colab": {
          "base_uri": "https://localhost:8080/",
          "height": 1000
        },
        "id": "7B_GVcSG8vqc",
        "outputId": "67bf7b35-ed76-4834-cee3-069eb882f92d"
      },
      "execution_count": 17,
      "outputs": [
        {
          "output_type": "display_data",
          "data": {
            "text/plain": [
              "<IPython.core.display.HTML object>"
            ],
            "text/html": [
              "<pre>Here are some ideas for visuals to accompany this storybook, building on the existing illustrations and focusing on the humorous element:\n",
              "\n",
              "**Page 2:** \n",
              "\n",
              "* **Dynamic rain:** Instead of just raindrops, show a playful swirl of raindrops, perhaps with a few drops splattering on the school roof, adding to the liveliness of the scene.\n",
              "* **Children's expressions:** Highlight the excited expressions on the children's faces as they sing \"Namaste, Masterji!\" \n",
              "\n",
              "**Page 3:**\n",
              "\n",
              "* **Masterji's obliviousness:** Emphasize Masterji's obliviousness by making his back to the audience, completely unaware of the frog's presence, perhaps even humming along to the children's greeting. \n",
              "\n",
              "**Page 4:**\n",
              "\n",
              "* **Exaggerated fear:** Use wide-eyed, exaggerated expressions on the children to amplify the comical fear they feel when they see the frog.\n",
              "* **Frog's smugness:** Show the frog perched on a chair, looking confident and comfortable,  perhaps with a mischievous twinkle in its eye.\n",
              "\n",
              "**Page 5:** \n",
              "\n",
              "* **Frog's \"bookworm\" attitude:** Show the frog sitting on the chair, seemingly engrossed in the book, wearing Masterji's glasses to add to the humor.\n",
              "* **Masterji's nonchalant reaction:** Have Masterji react to the frog's presence with a shrug or a smile, conveying his amusement and acceptance of the situation.\n",
              "\n",
              "**Page 6:** \n",
              "\n",
              "* **Frog's mischievousness:**  Show the frog perched on Masterji's head, holding his glasses and peering over them, adding to the humorous situation.\n",
              "* **Masterji's amused expression:** Masterji should have a playful, amused expression, showing that he finds the frog's antics entertaining.\n",
              "\n",
              "**Page 7:** \n",
              "\n",
              "* **Frog's \"bat\" impression:**  Show the frog hanging upside down from the fan, with its limbs outstretched, mimicking a bat, adding to the absurdity.\n",
              "* **Masterji's playful tone:** Masterji should have a playful expression, amused by the frog's attempts to be a bat.\n",
              "\n",
              "**Page 8:** \n",
              "\n",
              "* **Frog's gluttony:** Depict the frog with a comical expression, enjoying the aloo parathas, adding to the humor of the situation.\n",
              "* **Masterji's appreciation:** Masterji should look amused and pleased, acknowledging the frog's apparent appreciation for his cooking.\n",
              "\n",
              "**Page 9:** \n",
              "\n",
              "* **Frog's athleticism:** Show the frog kicking the football with a surprisingly strong kick, adding to the humorous image of the frog playing sports.\n",
              "* **Masterji's admiration:** Masterji should have a surprised and approving expression, impressed by the frog's football skills.\n",
              "\n",
              "**Page 10:**\n",
              "\n",
              "* **Children's playful teasing:** Show the children giggling and pointing at the frog, but in a friendly and humorous way, enjoying the prank they played on Masterji.\n",
              "* **Masterji's playful exasperation:** Masterji should have a playful expression on his face, accepting the children's prank with good humor.\n",
              "\n",
              "**Page 11:** \n",
              "\n",
              "* **Frog's contentment:** Show the frog sitting on Masterji's bag, looking relaxed and content, as if it enjoys the ride.\n",
              "* **Masterji's amused acceptance:** Masterji should have a lighthearted expression, finding the frog's presence amusing and even a little bit comforting.\n",
              "\n",
              "**Page 12:**\n",
              "\n",
              "* **Final 'Croak!':** Include a large, playful 'Croak!' bubble coming from the frog, with a smiling face inside the bubble, to end the book on a positive note.\n",
              "\n",
              "**General Tips:**\n",
              "\n",
              "* **Use bright colors and playful lines:**  The illustrations should be bright and lively, reflecting the lighthearted nature of the story.\n",
              "* **Emphasize the humorous elements:**  Use exaggerated expressions, comical postures, and funny details to highlight the humor of the story.\n",
              "* **Keep the focus on the frog:** The frog should be the central character, and its actions and expressions should drive the story.\n",
              "\n",
              "By incorporating these elements, the visuals can enhance the story's humor and make it even more engaging for young readers. \n",
              "</pre>"
            ]
          },
          "metadata": {}
        }
      ]
    },
    {
      "cell_type": "markdown",
      "source": [
        "## Use-case 6: Let's have Gemini provide the citation for this paper in MLA format."
      ],
      "metadata": {
        "id": "7UniQ4qkD9Gf"
      }
    },
    {
      "cell_type": "code",
      "source": [
        "print_gemini_response('What is the citation for this paper in MLA format?', '/content/paper.pdf')"
      ],
      "metadata": {
        "colab": {
          "base_uri": "https://localhost:8080/",
          "height": 54
        },
        "id": "3KemB2y39fMv",
        "outputId": "0320d232-05e5-4761-b87a-050a575667fa"
      },
      "execution_count": 18,
      "outputs": [
        {
          "output_type": "display_data",
          "data": {
            "text/plain": [
              "<IPython.core.display.HTML object>"
            ],
            "text/html": [
              "<pre>Brookes, Jack, et al. “Studying Human Behavior with Virtual Reality: The Unity Experiment Framework.” *Behavior Research Methods*, vol. 52, no. 2, 2020, pp. 455–63. *Crossref*, doi:10.3758/s13428-019-01242-0. \n",
              "</pre>"
            ]
          },
          "metadata": {}
        }
      ]
    },
    {
      "cell_type": "markdown",
      "source": [
        "## Use-case 7: Let's ask if this paper provides code examples."
      ],
      "metadata": {
        "id": "6ajH3SZZEhh9"
      }
    },
    {
      "cell_type": "code",
      "source": [
        "print_gemini_response('Does this paper provide code examples?', '/content/paper.pdf')"
      ],
      "metadata": {
        "colab": {
          "base_uri": "https://localhost:8080/",
          "height": 89
        },
        "id": "wqjPt3gFEY86",
        "outputId": "4a966114-1259-419d-f8bc-6b7622830ff2"
      },
      "execution_count": 19,
      "outputs": [
        {
          "output_type": "display_data",
          "data": {
            "text/plain": [
              "<IPython.core.display.HTML object>"
            ],
            "text/html": [
              "<pre>This paper does not provide code examples. However, it describes the Unity Experiment Framework (UXF) and its capabilities in detail, including the structure of experiments, measurement of dependent variables, setting independent variables, and its multithreading architecture. The paper also provides a simple example of C# code used to generate a two-block, ten-trial experiment, but it focuses on the high-level concepts rather than providing specific code snippets.\n",
              "\n",
              "The paper mentions that UXF is available as an open-source Unity package on GitHub, which is where you can find the actual code examples and further documentation. The GitHub link provided in the paper is: [github.com/immersivecognition/unity-experiment-framework](https://github.com/immersivecognition/unity-experiment-framework). \n",
              "</pre>"
            ]
          },
          "metadata": {}
        }
      ]
    },
    {
      "cell_type": "markdown",
      "source": [
        "## Use-case 8: Although there are very sparse examples of code, Gemini told us the paper discussed the Unity Experiment Framework (UXF) and something about a 'two-block, ten trial' experiment. Let's ask it to list any other experiments that can be ran with this framework."
      ],
      "metadata": {
        "id": "f8bqs0YwE3El"
      }
    },
    {
      "cell_type": "code",
      "source": [
        "print_gemini_response('What other experiments can be run with the UXF framework?', '/content/paper.pdf')"
      ],
      "metadata": {
        "colab": {
          "base_uri": "https://localhost:8080/",
          "height": 679
        },
        "id": "5ezNTsUZEvmr",
        "outputId": "e63f8fec-826d-48d4-ae8c-53f04d170acd"
      },
      "execution_count": 20,
      "outputs": [
        {
          "output_type": "display_data",
          "data": {
            "text/plain": [
              "<IPython.core.display.HTML object>"
            ],
            "text/html": [
              "<pre>The paper you provided focuses on using the Unity Experiment Framework (UXF) for studying human behavior in virtual reality (VR). While the paper illustrates its use in a postural sway experiment, the framework can be applied to a wide range of other experiments. \n",
              "\n",
              "Here are some examples of experiments that could be run using the UXF framework:\n",
              "\n",
              "**Cognitive Psychology:**\n",
              "\n",
              "* **Memory and Attention:** Investigate how VR environments affect working memory capacity, attention span, and multitasking ability.\n",
              "* **Decision-Making:** Test decision-making strategies in simulated scenarios involving risk, reward, and social interactions.\n",
              "* **Learning and Training:** Develop VR-based training programs for complex skills (e.g., surgical procedures, emergency response) and track learning progress.\n",
              "\n",
              "**Social Psychology:**\n",
              "\n",
              "* **Social Interaction and Communication:**  Examine how VR fosters social connection and communication in online groups, virtual communities, and therapeutic settings.\n",
              "* **Prejudice and Stereotyping:** Conduct implicit association tests or other tasks to explore how VR environments can influence social attitudes and behaviors.\n",
              "* **Prosocial Behavior:** Investigate factors promoting prosocial behaviors (e.g., helping, empathy, cooperation) in virtual environments.\n",
              "\n",
              "**Perception and Motor Control:**\n",
              "\n",
              "* **Depth Perception:** Assess how VR environments affect depth perception, spatial awareness, and navigation. \n",
              "* **Motor Learning:** Design VR-based motor learning tasks to study the acquisition and refinement of motor skills.\n",
              "* **Sensory Integration:** Investigate how VR environments modulate sensory perception and integration (e.g., visual, auditory, haptic feedback).\n",
              "\n",
              "**Other areas of application:**\n",
              "\n",
              "* **Consumer Research:**  Use VR to simulate shopping experiences, test product designs, and gather user feedback.\n",
              "* **Healthcare:**  Develop VR-based treatments for phobias, anxiety, pain management, and rehabilitation.\n",
              "* **Education:**  Create immersive learning experiences that enhance engagement, understanding, and knowledge acquisition.\n",
              "\n",
              "**Key features of UXF that make it suitable for diverse experiments:**\n",
              "\n",
              "* **Flexible structure:** The session-block-trial model allows for various experimental designs, including adaptive procedures.\n",
              "* **Independent variable control:** Settings can be easily modified for different conditions, making it suitable for exploring a wide range of manipulations.\n",
              "* **Data collection:**  UXF provides tools for recording both behavioral data and continuous measurements, enabling detailed analysis.\n",
              "* **Multithreading:**  UXF handles file I/O efficiently, minimizing performance issues and ensuring smooth data collection.\n",
              "* **Cloud compatibility:**  UXF can be integrated into cloud-based experiments for large-scale data collection and remote access.\n",
              "\n",
              "The versatility of the UXF framework, combined with the capabilities of Unity, opens up exciting possibilities for conducting innovative research in diverse fields.\n",
              "</pre>"
            ]
          },
          "metadata": {}
        }
      ]
    },
    {
      "cell_type": "markdown",
      "source": [
        "Use-case 9: The previous question have us a lot of information about the content of the paper's main topic. Let's ask it if the paper's authors experimented with this framework themselves - and if so, what was the experiment's topic."
      ],
      "metadata": {
        "id": "2dj3AHrQFflS"
      }
    },
    {
      "cell_type": "code",
      "source": [
        "print_gemini_response('Did the authors of this paper experiment with the UXF framework? If so, what kind of experiment did they run?', '/content/paper.pdf')"
      ],
      "metadata": {
        "colab": {
          "base_uri": "https://localhost:8080/",
          "height": 124
        },
        "id": "N0cDmNijFRjG",
        "outputId": "17b99f71-eb9d-4d39-fb08-c149fa647719"
      },
      "execution_count": 21,
      "outputs": [
        {
          "output_type": "display_data",
          "data": {
            "text/plain": [
              "<IPython.core.display.HTML object>"
            ],
            "text/html": [
              "<pre>The paper doesn't mention any experiments using the UXF framework itself. It describes UXF as a software framework designed for creating experiments in Unity, but the focus is on presenting UXF as a tool rather than reporting on its use in a study.\n",
              "\n",
              "The paper does include a *case study* where they built a virtual swinging room experiment using UXF to measure postural sway in adults and children. However, this case study isn't a controlled experiment to test UXF against other frameworks; it's meant to showcase how UXF can be used for this type of research. \n",
              "\n",
              "The authors do mention their plan to make UXF compatible with future Unity versions and expand its platform support, but they don't describe any experiments they intend to run with it. \n",
              "</pre>"
            ]
          },
          "metadata": {}
        }
      ]
    },
    {
      "cell_type": "markdown",
      "source": [
        "## Use-case 10: Now that we understand the gist of the paper, let's ask if the author's mentioned any roadblocks or potential future research related to UXF."
      ],
      "metadata": {
        "id": "kqbgqaGtGAQ5"
      }
    },
    {
      "cell_type": "code",
      "source": [
        "print_gemini_response('What are the roadblocks or potential future research related to UXF?', '/content/paper.pdf')"
      ],
      "metadata": {
        "colab": {
          "base_uri": "https://localhost:8080/",
          "height": 419
        },
        "id": "B0p-hpFOF3Cr",
        "outputId": "3160be8e-23ca-4f2f-96da-b81a6d48e79e"
      },
      "execution_count": 22,
      "outputs": [
        {
          "output_type": "display_data",
          "data": {
            "text/plain": [
              "<IPython.core.display.HTML object>"
            ],
            "text/html": [
              "<pre>The provided PDF doesn't discuss any roadblocks or potential future research related to UXF (Unity Experiment Framework). However, the authors do mention that they plan to work on:\n",
              "\n",
              "**Maintaining compatibility with future versions of Unity:** This is an ongoing task as software updates occur frequently, ensuring UXF remains functional across different versions of the Unity engine is crucial.\n",
              "\n",
              "**Refactoring UXF for wider platform support:**  Expanding the framework to work on mobile devices, web browsers, augmented reality devices, and standalone VR headsets would significantly broaden its appeal and application.\n",
              "\n",
              "**Adding or modifying features based on needs:** The authors acknowledge the open-source nature of UXF and encourage researchers to contribute to its development by suggesting new features or modifications based on their specific needs.\n",
              "\n",
              "**Potential Future Research Related to UXF:**\n",
              "\n",
              "Based on the existing capabilities of UXF, potential future research could focus on:\n",
              "\n",
              "* **Expanding UXF's Capabilities:**  \n",
              "    * **More advanced data analysis tools:** Incorporating built-in data visualization and analysis tools within the framework could streamline the research process further. \n",
              "    * **Integration with other research tools:**  Allowing seamless integration with other software used in experimental psychology (e.g., Matlab, Python, PsychoPy) could enhance UXF's versatility.\n",
              "    * **Enhanced experimental design features:**  Introducing features that support adaptive designs, Bayesian statistics, or advanced randomization techniques could make UXF more attractive for complex experiments.\n",
              "* **Applications of UXF in New Research Areas:** \n",
              "    * **Exploring human-computer interaction:**  UXF could be used to investigate user experiences with different VR interfaces, applications, and game mechanics.\n",
              "    * **Studying social interactions in VR:**  Developing methods to capture and analyze social interactions in virtual environments could be a fruitful area of research using UXF.\n",
              "    * **VR-based training and rehabilitation:**  UXF could be adapted to design VR simulations for training in fields like surgery, aviation, or for rehabilitation after injuries.\n",
              "\n",
              "Overall, UXF provides a solid foundation for VR-based behavioral research. By continuing to develop its capabilities and exploring new applications, UXF can play a significant role in advancing our understanding of human behavior in virtual environments. \n",
              "</pre>"
            ]
          },
          "metadata": {}
        }
      ]
    }
  ]
}