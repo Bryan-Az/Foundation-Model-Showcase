{
  "nbformat": 4,
  "nbformat_minor": 0,
  "metadata": {
    "colab": {
      "provenance": [],
      "authorship_tag": "ABX9TyPz4pWuAqI4KiG/qiL5Nij+",
      "include_colab_link": true
    },
    "kernelspec": {
      "name": "python3",
      "display_name": "Python 3"
    },
    "language_info": {
      "name": "python"
    }
  },
  "cells": [
    {
      "cell_type": "markdown",
      "metadata": {
        "id": "view-in-github",
        "colab_type": "text"
      },
      "source": [
        "<a href=\"https://colab.research.google.com/github/Bryan-Az/Foundation-Model-Showcase/blob/main/Part%5C%20C%5C%20-%5C%20Multimodal%5C%20Input%5C%20Demonstration/Multimodal_Foundational_Models.ipynb\" target=\"_parent\"><img src=\"https://colab.research.google.com/assets/colab-badge.svg\" alt=\"Open In Colab\"/></a>"
      ]
    },
    {
      "cell_type": "markdown",
      "source": [
        "# Google's Gemini 1.5"
      ],
      "metadata": {
        "id": "i3gxR6hduJNE"
      }
    },
    {
      "cell_type": "code",
      "execution_count": null,
      "metadata": {
        "id": "EuvsMcQqtn-i"
      },
      "outputs": [],
      "source": []
    },
    {
      "cell_type": "markdown",
      "source": [
        "# Anthropic's Claude"
      ],
      "metadata": {
        "id": "0day6eOtuJcI"
      }
    },
    {
      "cell_type": "code",
      "source": [],
      "metadata": {
        "id": "8Gk9RQKHuJyd"
      },
      "execution_count": null,
      "outputs": []
    },
    {
      "cell_type": "markdown",
      "source": [
        "# OpenAI's GPT-4o"
      ],
      "metadata": {
        "id": "Ujv3EYE9uKBJ"
      }
    },
    {
      "cell_type": "code",
      "source": [],
      "metadata": {
        "id": "6KqnKAAJuKRA"
      },
      "execution_count": null,
      "outputs": []
    }
  ]
}